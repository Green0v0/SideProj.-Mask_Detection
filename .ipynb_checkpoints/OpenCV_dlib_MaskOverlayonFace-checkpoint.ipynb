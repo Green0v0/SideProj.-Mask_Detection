{
 "cells": [
  {
   "cell_type": "code",
   "execution_count": 15,
   "metadata": {},
   "outputs": [],
   "source": [
    "# !pip install cmake"
   ]
  },
  {
   "cell_type": "code",
   "execution_count": 16,
   "metadata": {},
   "outputs": [],
   "source": [
    "# !pip install dlib imutils"
   ]
  },
  {
   "cell_type": "code",
   "execution_count": 17,
   "metadata": {},
   "outputs": [],
   "source": [
    "# Necessary imports\n",
    "import cv2\n",
    "import dlib\n",
    "import numpy as np\n",
    "import os\n",
    "import imutils"
   ]
  },
  {
   "cell_type": "code",
   "execution_count": 23,
   "metadata": {},
   "outputs": [
    {
     "data": {
      "text/plain": [
       "[]"
      ]
     },
     "execution_count": 23,
     "metadata": {},
     "output_type": "execute_result"
    }
   ],
   "source": [
    "## set directories\n",
    "IMG_DIR_PATH = r\"E:\\Users\\inje\\교육\\202012_국비지원 IT교육\\SideProj.-Mask_Detection\\images\"\n",
    "file_list = os.listdir(IMG_DIR_PATH)\n",
    "\n",
    "#Initialize color [color_type] = (Blue, Green, Red)\n",
    "color_blue = (239,207,137)\n",
    "color_cyan = (255,200,0)\n",
    "color_black = (0, 0, 0)\n",
    "file_list[:5]"
   ]
  },
  {
   "cell_type": "markdown",
   "metadata": {},
   "source": [
    "### 이미지 전처리"
   ]
  },
  {
   "cell_type": "code",
   "execution_count": null,
   "metadata": {},
   "outputs": [],
   "source": [
    "# Loading the image and resizing, converting it to grayscale\n",
    "img= cv2.imread('image_path')\n",
    "img = imutils.resize(img, width = 500)\n",
    "gray=cv2.cvtColor(img, cv2.COLOR_BGR2GRAY)"
   ]
  },
  {
   "cell_type": "markdown",
   "metadata": {},
   "source": [
    "### dlib, OpenCV 및 Python을 사용하여 얼굴 랜드 마크 감지 및 추출"
   ]
  },
  {
   "cell_type": "code",
   "execution_count": 29,
   "metadata": {},
   "outputs": [
    {
     "ename": "NameError",
     "evalue": "name 'gray' is not defined",
     "output_type": "error",
     "traceback": [
      "\u001b[1;31m----------------------------------------------------------------------\u001b[0m",
      "\u001b[1;31mNameError\u001b[0m                            Traceback (most recent call last)",
      "\u001b[1;32m<ipython-input-29-17e67305d01e>\u001b[0m in \u001b[0;36m<module>\u001b[1;34m\u001b[0m\n\u001b[0;32m      8\u001b[0m \"\"\"\n\u001b[0;32m      9\u001b[0m \u001b[1;33m\u001b[0m\u001b[0m\n\u001b[1;32m---> 10\u001b[1;33m \u001b[0mfaces\u001b[0m \u001b[1;33m=\u001b[0m \u001b[0mdetector\u001b[0m\u001b[1;33m(\u001b[0m\u001b[0mgray\u001b[0m\u001b[1;33m,\u001b[0m \u001b[1;36m1\u001b[0m\u001b[1;33m)\u001b[0m\u001b[1;33m\u001b[0m\u001b[1;33m\u001b[0m\u001b[0m\n\u001b[0m\u001b[0;32m     11\u001b[0m \u001b[1;33m\u001b[0m\u001b[0m\n\u001b[0;32m     12\u001b[0m \u001b[1;31m# printing the coordinates of the bounding rectangles\u001b[0m\u001b[1;33m\u001b[0m\u001b[1;33m\u001b[0m\u001b[1;33m\u001b[0m\u001b[0m\n",
      "\u001b[1;31mNameError\u001b[0m: name 'gray' is not defined"
     ]
    }
   ],
   "source": [
    "# Initialize dlib's face detector\n",
    "detector = dlib.get_frontal_face_detector()\n",
    "\n",
    "\"\"\"\n",
    "Detecting faces in the grayscale image and creating an object - faces to store the list of bounding rectangles coordinates\n",
    "The \"1\" in the second argument indicates that we should upsample the image 1 time.  \n",
    "This will make everything bigger and allow us to detect more faces\n",
    "\"\"\"\n",
    "\n",
    "faces = detector(gray, 1)\n",
    "\n",
    "# printing the coordinates of the bounding rectangles\n",
    "print(faces)\n",
    "print(\"Number of faces detected: \", len(faces))\n",
    "\n",
    "\"\"\"\n",
    "# Using a for loop in order to extract the specific coordinates (x1,x2,y1,y2)\n",
    "for face in faces:\n",
    "  x1 = face.left()\n",
    "  y1 = face.top()\n",
    "  x2 = face.right()\n",
    "  y2 = face.bottom()\n",
    "  # Drawing a rectangle around the face detected\n",
    "  cv2.rectangle(img, (x1,y1), (x2,y2),(0,255,0),3)\n",
    "cv2.imshow(\"image\", img)\n",
    "cv2.waitKey(0)\n",
    "cv2.destroyAllWindows()\n",
    "\"\"\""
   ]
  },
  {
   "cell_type": "code",
   "execution_count": 10,
   "metadata": {},
   "outputs": [
    {
     "ename": "RuntimeError",
     "evalue": "Unable to open shape_predictor_68_face_landmarks.dat",
     "output_type": "error",
     "traceback": [
      "\u001b[1;31m----------------------------------------------------------------------\u001b[0m",
      "\u001b[1;31mRuntimeError\u001b[0m                         Traceback (most recent call last)",
      "\u001b[1;32m<ipython-input-10-72d2014a8974>\u001b[0m in \u001b[0;36m<module>\u001b[1;34m\u001b[0m\n\u001b[0;32m      2\u001b[0m \u001b[0mp\u001b[0m \u001b[1;33m=\u001b[0m \u001b[1;34m\"shape_predictor_68_face_landmarks.dat\"\u001b[0m\u001b[1;33m\u001b[0m\u001b[1;33m\u001b[0m\u001b[0m\n\u001b[0;32m      3\u001b[0m \u001b[1;31m# Initialize dlib's shape predictor\u001b[0m\u001b[1;33m\u001b[0m\u001b[1;33m\u001b[0m\u001b[1;33m\u001b[0m\u001b[0m\n\u001b[1;32m----> 4\u001b[1;33m \u001b[0mpredictor\u001b[0m \u001b[1;33m=\u001b[0m \u001b[0mdlib\u001b[0m\u001b[1;33m.\u001b[0m\u001b[0mshape_predictor\u001b[0m\u001b[1;33m(\u001b[0m\u001b[0mp\u001b[0m\u001b[1;33m)\u001b[0m\u001b[1;33m\u001b[0m\u001b[1;33m\u001b[0m\u001b[0m\n\u001b[0m\u001b[0;32m      5\u001b[0m \u001b[1;33m\u001b[0m\u001b[0m\n\u001b[0;32m      6\u001b[0m \u001b[1;31m# Get the shape using the predictor\u001b[0m\u001b[1;33m\u001b[0m\u001b[1;33m\u001b[0m\u001b[1;33m\u001b[0m\u001b[0m\n",
      "\u001b[1;31mRuntimeError\u001b[0m: Unable to open shape_predictor_68_face_landmarks.dat"
     ]
    }
   ],
   "source": [
    "# Path of file\n",
    "p = \"shape_predictor_68_face_landmarks.dat\"\n",
    "# Initialize dlib's shape predictor\n",
    "predictor = dlib.shape_predictor(p)\n",
    "\n",
    "# Get the shape using the predictor\n",
    "\n",
    "for face in faces:\n",
    "    landmarks = predictor(gray, face)\n",
    "\n",
    "    # for n in range(0,68):\n",
    "    #     x = landmarks.part(n).x\n",
    "    #     y = landmarks.part(n).y\n",
    "    #     img_landmark = cv2.circle(img, (x, y), 4, (0, 0, 255), -1)"
   ]
  },
  {
   "cell_type": "code",
   "execution_count": 11,
   "metadata": {},
   "outputs": [
    {
     "ename": "IndentationError",
     "evalue": "unexpected indent (<ipython-input-11-48165b571134>, line 2)",
     "output_type": "error",
     "traceback": [
      "\u001b[1;36m  File \u001b[1;32m\"<ipython-input-11-48165b571134>\"\u001b[1;36m, line \u001b[1;32m2\u001b[0m\n\u001b[1;33m    for i in range(1, 16):\u001b[0m\n\u001b[1;37m    ^\u001b[0m\n\u001b[1;31mIndentationError\u001b[0m\u001b[1;31m:\u001b[0m unexpected indent\n"
     ]
    }
   ],
   "source": [
    "points = []\n",
    "for i in range(1, 16):\n",
    "    point = [landmarks.part(i).x, landmarks.part(i).y]\n",
    "    points.append(point)\n",
    "    # print(points)\n",
    "\n",
    "    # Coordinates for the additional 3 points for wide, high coverage mask - in sequence\n",
    "    mask_a = [((landmarks.part(42).x), (landmarks.part(15).y)),\n",
    "              ((landmarks.part(27).x), (landmarks.part(27).y)),\n",
    "              ((landmarks.part(39).x), (landmarks.part(1).y))]\n",
    "\n",
    "    # Coordinates for the additional point for wide, medium coverage mask - in sequence\n",
    "    mask_c = [((landmarks.part(29).x), (landmarks.part(29).y))]\n",
    "\n",
    "    # Coordinates for the additional 5 points for wide, low coverage mask (lower nose points) - in sequence\n",
    "    mask_e = [((landmarks.part(35).x), (landmarks.part(35).y)),\n",
    "              ((landmarks.part(34).x), (landmarks.part(34).y)),\n",
    "              ((landmarks.part(33).x), (landmarks.part(33).y)),\n",
    "              ((landmarks.part(32).x), (landmarks.part(32).y)),\n",
    "              ((landmarks.part(31).x), (landmarks.part(31).y))]\n",
    "\n",
    "    fmask_a = points + mask_a\n",
    "    fmask_c = points + mask_c\n",
    "    fmask_e = points + mask_e\n",
    "\n",
    "    # mask_type = {1: fmask_a, 2: fmask_c, 3: fmask_e}\n",
    "    # mask_type[choice2]\n",
    "\n",
    "    # Using Python OpenCV – cv2.polylines() method to draw mask outline for [mask_type]:\n",
    "    # fmask_a = wide, high coverage mask,\n",
    "    # fmask_c = wide, medium coverage mask,\n",
    "    # fmask_e  = wide, low coverage mask\n",
    "\n",
    "    fmask_a = np.array(fmask_a, dtype=np.int32)\n",
    "    fmask_c = np.array(fmask_c, dtype=np.int32)\n",
    "    fmask_e = np.array(fmask_e, dtype=np.int32)\n",
    "\n",
    "    mask_type = {1: fmask_a, 2: fmask_c, 3: fmask_e}\n",
    "    mask_type[choice2]\n",
    "\n",
    "    # change parameter [mask_type] and color_type for various combination\n",
    "    img2 = cv2.polylines(img, [mask_type[choice2]], True, choice1, thickness=2, lineType=cv2.LINE_8)\n",
    "\n",
    "    # Using Python OpenCV – cv2.fillPoly() method to fill mask\n",
    "    # change parameter [mask_type] and color_type for various combination\n",
    "    img3 = cv2.fillPoly(img2, [mask_type[choice2]], choice1, lineType=cv2.LINE_AA)\n",
    "\n",
    "    # cv2.imshow(\"image with mask outline\", img2)\n",
    "    cv2.imshow(\"image with mask\", img3)\n",
    "\n",
    "#Save the output file for testing\n",
    "outputNameofImage = \"output/imagetest.jpg\"\n",
    "print(\"Saving output image to\", outputNameofImage)\n",
    "cv2.imwrite(outputNameofImage, img3)"
   ]
  },
  {
   "cell_type": "code",
   "execution_count": 12,
   "metadata": {},
   "outputs": [
    {
     "ename": "IndentationError",
     "evalue": "unexpected indent (<ipython-input-12-b3c751728faa>, line 2)",
     "output_type": "error",
     "traceback": [
      "\u001b[1;36m  File \u001b[1;32m\"<ipython-input-12-b3c751728faa>\"\u001b[1;36m, line \u001b[1;32m2\u001b[0m\n\u001b[1;33m    for i in range(1, 16):\u001b[0m\n\u001b[1;37m    ^\u001b[0m\n\u001b[1;31mIndentationError\u001b[0m\u001b[1;31m:\u001b[0m unexpected indent\n"
     ]
    }
   ],
   "source": [
    "points = []\n",
    "for i in range(1, 16):\n",
    "    point = [landmarks.part(i).x, landmarks.part(i).y]\n",
    "    points.append(point)\n",
    "    # print(points)\n",
    "\n",
    "    # Ellipse parameters for high, round coverage mask\n",
    "    top_ellipse = landmarks.part(27).y + (landmarks.part(28).y - landmarks.part(27).y) / 2\n",
    "    centre_x = landmarks.part(28).x\n",
    "    centre_y = landmarks.part(8).y - ((landmarks.part(8).y - (top_ellipse)) / 2)\n",
    "    # (height of ellipse)\n",
    "    axis_major = (landmarks.part(8).y - top_ellipse) / 2\n",
    "    # (width of ellipse)\n",
    "    axis_minor = ((landmarks.part(13).x - landmarks.part(3).x) * 0.8) / 2\n",
    "\n",
    "    centre_x = int(round(centre_x))\n",
    "    centre_y = int(round(centre_y))\n",
    "    axis_major = int(round(axis_major))\n",
    "    axis_minor = int(round(axis_minor))\n",
    "\n",
    "    centre = (centre_x, centre_y)\n",
    "    axes = (axis_major, axis_minor)\n",
    "\n",
    "    # Using Python OpenCV – cv2.ellipse() method to draw mask outline for mask\n",
    "    # change last parameter - line thickness and color_type for various combination\n",
    "    img_2 = cv2.ellipse(img, centre, axes, 0, 0, 360, color_type, thickness=2)\n",
    "\n",
    "\n",
    "\n",
    "    # Using Python OpenCV – cv2.ellipse() method to draw mask outline for mask\n",
    "    # change last parameter - line thickness to negative for fill and color_type for various combination\n",
    "    img_3 = cv2.ellipse(img, centre, axes, 0, 0, 360, color_type, thickness=-1)\n",
    "\n",
    "# cv2.imshow(\"image with mask outline\", img_2)\n",
    "cv2.imshow(\"image with mask\", img_3)"
   ]
  },
  {
   "cell_type": "code",
   "execution_count": 13,
   "metadata": {},
   "outputs": [
    {
     "ename": "KeyboardInterrupt",
     "evalue": "Interrupted by user",
     "output_type": "error",
     "traceback": [
      "\u001b[1;31m----------------------------------------------------------------------\u001b[0m",
      "\u001b[1;31mKeyboardInterrupt\u001b[0m                    Traceback (most recent call last)",
      "\u001b[1;32m<ipython-input-13-55efc2693991>\u001b[0m in \u001b[0;36m<module>\u001b[1;34m\u001b[0m\n\u001b[0;32m      1\u001b[0m \u001b[1;31m# Use input () function to capture from user requirements for mask type and mask colour\u001b[0m\u001b[1;33m\u001b[0m\u001b[1;33m\u001b[0m\u001b[1;33m\u001b[0m\u001b[0m\n\u001b[1;32m----> 2\u001b[1;33m \u001b[0mchoice1\u001b[0m \u001b[1;33m=\u001b[0m \u001b[0minput\u001b[0m\u001b[1;33m(\u001b[0m\u001b[1;34m\"Please select the choice of mask color\\nEnter 1 for blue\\nEnter 2 for black:\\n\"\u001b[0m\u001b[1;33m)\u001b[0m\u001b[1;33m\u001b[0m\u001b[1;33m\u001b[0m\u001b[0m\n\u001b[0m\u001b[0;32m      3\u001b[0m \u001b[0mchoice1\u001b[0m \u001b[1;33m=\u001b[0m \u001b[0mint\u001b[0m\u001b[1;33m(\u001b[0m\u001b[0mchoice1\u001b[0m\u001b[1;33m)\u001b[0m\u001b[1;33m\u001b[0m\u001b[1;33m\u001b[0m\u001b[0m\n\u001b[0;32m      4\u001b[0m \u001b[1;33m\u001b[0m\u001b[0m\n\u001b[0;32m      5\u001b[0m \u001b[1;32mif\u001b[0m \u001b[0mchoice1\u001b[0m \u001b[1;33m==\u001b[0m \u001b[1;36m1\u001b[0m\u001b[1;33m:\u001b[0m\u001b[1;33m\u001b[0m\u001b[1;33m\u001b[0m\u001b[0m\n",
      "\u001b[1;32mc:\\users\\inje.jeong\\anaconda3\\envs\\cv2\\lib\\site-packages\\ipykernel\\kernelbase.py\u001b[0m in \u001b[0;36mraw_input\u001b[1;34m(self, prompt)\u001b[0m\n\u001b[0;32m    846\u001b[0m                 \u001b[1;34m\"raw_input was called, but this frontend does not support input requests.\"\u001b[0m\u001b[1;33m\u001b[0m\u001b[1;33m\u001b[0m\u001b[0m\n\u001b[0;32m    847\u001b[0m             )\n\u001b[1;32m--> 848\u001b[1;33m         return self._input_request(str(prompt),\n\u001b[0m\u001b[0;32m    849\u001b[0m             \u001b[0mself\u001b[0m\u001b[1;33m.\u001b[0m\u001b[0m_parent_ident\u001b[0m\u001b[1;33m,\u001b[0m\u001b[1;33m\u001b[0m\u001b[1;33m\u001b[0m\u001b[0m\n\u001b[0;32m    850\u001b[0m             \u001b[0mself\u001b[0m\u001b[1;33m.\u001b[0m\u001b[0m_parent_header\u001b[0m\u001b[1;33m,\u001b[0m\u001b[1;33m\u001b[0m\u001b[1;33m\u001b[0m\u001b[0m\n",
      "\u001b[1;32mc:\\users\\inje.jeong\\anaconda3\\envs\\cv2\\lib\\site-packages\\ipykernel\\kernelbase.py\u001b[0m in \u001b[0;36m_input_request\u001b[1;34m(self, prompt, ident, parent, password)\u001b[0m\n\u001b[0;32m    890\u001b[0m             \u001b[1;32mexcept\u001b[0m \u001b[0mKeyboardInterrupt\u001b[0m\u001b[1;33m:\u001b[0m\u001b[1;33m\u001b[0m\u001b[1;33m\u001b[0m\u001b[0m\n\u001b[0;32m    891\u001b[0m                 \u001b[1;31m# re-raise KeyboardInterrupt, to truncate traceback\u001b[0m\u001b[1;33m\u001b[0m\u001b[1;33m\u001b[0m\u001b[1;33m\u001b[0m\u001b[0m\n\u001b[1;32m--> 892\u001b[1;33m                 \u001b[1;32mraise\u001b[0m \u001b[0mKeyboardInterrupt\u001b[0m\u001b[1;33m(\u001b[0m\u001b[1;34m\"Interrupted by user\"\u001b[0m\u001b[1;33m)\u001b[0m \u001b[1;32mfrom\u001b[0m \u001b[1;32mNone\u001b[0m\u001b[1;33m\u001b[0m\u001b[1;33m\u001b[0m\u001b[0m\n\u001b[0m\u001b[0;32m    893\u001b[0m             \u001b[1;32mexcept\u001b[0m \u001b[0mException\u001b[0m \u001b[1;32mas\u001b[0m \u001b[0me\u001b[0m\u001b[1;33m:\u001b[0m\u001b[1;33m\u001b[0m\u001b[1;33m\u001b[0m\u001b[0m\n\u001b[0;32m    894\u001b[0m                 \u001b[0mself\u001b[0m\u001b[1;33m.\u001b[0m\u001b[0mlog\u001b[0m\u001b[1;33m.\u001b[0m\u001b[0mwarning\u001b[0m\u001b[1;33m(\u001b[0m\u001b[1;34m\"Invalid Message:\"\u001b[0m\u001b[1;33m,\u001b[0m \u001b[0mexc_info\u001b[0m\u001b[1;33m=\u001b[0m\u001b[1;32mTrue\u001b[0m\u001b[1;33m)\u001b[0m\u001b[1;33m\u001b[0m\u001b[1;33m\u001b[0m\u001b[0m\n",
      "\u001b[1;31mKeyboardInterrupt\u001b[0m: Interrupted by user"
     ]
    },
    {
     "name": "stdout",
     "output_type": "stream",
     "text": [
      "Please select the choice of mask color\n",
      "Enter 1 for blue\n",
      "Enter 2 for black:\n",
      "2\n"
     ]
    }
   ],
   "source": [
    "# Use input () function to capture from user requirements for mask type and mask colour\n",
    "choice1 = input(\"Please select the choice of mask color\\nEnter 1 for blue\\nEnter 2 for black:\\n\")\n",
    "choice1 = int(choice1)\n",
    "\n",
    "if choice1 == 1:\n",
    "    choice1 = color_blue\n",
    "    print('You selected mask color = blue')\n",
    "elif choice1 == 2:\n",
    "    choice1 = color_black\n",
    "    print('You selected mask color = black')\n",
    "else:\n",
    "    print(\"invalid selection, please select again.\")\n",
    "    input(\"Please select the choice of mask color\\nEnter 1 for blue\\nEnter 2 for black :\\n\")\n",
    "\n",
    "\n",
    "choice2 = input(\"Please enter choice of mask type coverage \\nEnter 1 for high \\nEnter 2 for medium \\nEnter 3 for low :\\n\")\n",
    "choice2 = int(choice2)\n",
    "\n",
    "if choice2 == 1:\n",
    "    choice2 = fmask_a\n",
    "    print(f'You chosen wide, high coverage mask')\n",
    "elif choice2 == 2:\n",
    "    choice2 = fmask_c\n",
    "    print(f'You chosen wide, medium coverage mask')\n",
    "elif choice2 == 3:\n",
    "    choice2 = fmask_e\n",
    "    print(f'You chosen wide, low coverage mask')\n",
    "else:\n",
    "    print(\"invalid selection, please select again.\")\n",
    "    input(\"Please enter choice of mask type coverage \\nEnter 1 for high \\nEnter 2 for medium \\nEnter 3 for low :\\n\")\n",
    "\n",
    "# print(choice2)"
   ]
  },
  {
   "cell_type": "markdown",
   "metadata": {},
   "source": [
    "# 사진파일 크롤링"
   ]
  },
  {
   "cell_type": "code",
   "execution_count": null,
   "metadata": {},
   "outputs": [],
   "source": []
  },
  {
   "cell_type": "code",
   "execution_count": null,
   "metadata": {},
   "outputs": [],
   "source": []
  },
  {
   "cell_type": "code",
   "execution_count": null,
   "metadata": {},
   "outputs": [],
   "source": []
  },
  {
   "cell_type": "code",
   "execution_count": null,
   "metadata": {},
   "outputs": [],
   "source": []
  },
  {
   "cell_type": "markdown",
   "metadata": {},
   "source": [
    "# 마스씌우기 파이프라인"
   ]
  },
  {
   "cell_type": "code",
   "execution_count": 2,
   "metadata": {},
   "outputs": [],
   "source": [
    "# Necessary imports\n",
    "import cv2\n",
    "import dlib\n",
    "import numpy as np\n",
    "import os\n",
    "import imutils"
   ]
  },
  {
   "cell_type": "code",
   "execution_count": 3,
   "metadata": {},
   "outputs": [
    {
     "data": {
      "text/plain": [
       "['five.jpg', 'one.jpg', 'two.jpg']"
      ]
     },
     "execution_count": 3,
     "metadata": {},
     "output_type": "execute_result"
    }
   ],
   "source": [
    "## set directories\n",
    "IMG_DIR_PATH = r\"C:\\Users\\inje.jeong\\Desktop\\images\"\n",
    "os.chdir(IMG_DIR_PATH)\n",
    "file_list = os.listdir(IMG_DIR_PATH)\n",
    "\n",
    "#Initialize color [color_type] = (Blue, Green, Red)\n",
    "color_blue = (239,207,137)\n",
    "color_cyan = (255,200,0)\n",
    "color_black = (0, 0, 0)\n",
    "color_white = (255,255,255)\n",
    "file_list[:5]"
   ]
  },
  {
   "cell_type": "code",
   "execution_count": 4,
   "metadata": {},
   "outputs": [],
   "source": [
    "# # IMG_PATH = os.path.join(IMG_DIR_PATH, file_list[0])\n",
    "# img = cv2.imread(file_list[0])\n",
    "# # img\n",
    "# cv2.imshow('img',img)\n",
    "# cv2.waitKey(0) # 키보드 입력을 기다린다. (0: 입력될 떄까지 기다린다. 양수=ms(밀리초))\n",
    "# cv2.destroyAllWindows()"
   ]
  },
  {
   "cell_type": "code",
   "execution_count": 5,
   "metadata": {},
   "outputs": [],
   "source": [
    "# IMG_PATH = os.path.join(IMG_DIR_PATH, file_list[0])\n",
    "# print(IMG_PATH)\n",
    "# os.chdir(IMG_DIR_PATH)"
   ]
  },
  {
   "cell_type": "code",
   "execution_count": 6,
   "metadata": {},
   "outputs": [],
   "source": [
    "# img = cv2.imread(IMG_PATH)\n",
    "# # img\n",
    "# cv2.imshow('img',img)\n",
    "# cv2.waitKey(0)\n",
    "# cv2.destroyAllWindows()"
   ]
  },
  {
   "cell_type": "code",
   "execution_count": 7,
   "metadata": {},
   "outputs": [],
   "source": [
    "os.chdir(r\"E:\\Users\\inje\\교육\\202012_국비지원 IT교육\\SideProj.-Mask_Detection\")"
   ]
  },
  {
   "cell_type": "code",
   "execution_count": 14,
   "metadata": {},
   "outputs": [
    {
     "data": {
      "text/plain": [
       "['five.jpg', 'one.jpg', 'two.jpg']"
      ]
     },
     "execution_count": 14,
     "metadata": {},
     "output_type": "execute_result"
    }
   ],
   "source": [
    "file_list"
   ]
  },
  {
   "cell_type": "code",
   "execution_count": 17,
   "metadata": {},
   "outputs": [
    {
     "data": {
      "text/plain": [
       "'E:\\\\Users\\\\inje\\\\교육\\\\202012_국비지원 IT교육\\\\SideProj.-Mask_Detection'"
      ]
     },
     "execution_count": 17,
     "metadata": {},
     "output_type": "execute_result"
    }
   ],
   "source": [
    "os.getcwd()"
   ]
  },
  {
   "cell_type": "code",
   "execution_count": 20,
   "metadata": {},
   "outputs": [
    {
     "name": "stdout",
     "output_type": "stream",
     "text": [
      "Saving output image to output_0.jpg\n",
      "Saving output image to output_1.jpg\n",
      "Saving output image to output_2.jpg\n"
     ]
    }
   ],
   "source": [
    "# Loading the image and resizing, converting it to grayscale\n",
    "choice1 = color_white # 마스크 색깔\n",
    "choice2 = 2 # 마스크 모양 0 ~ 2\n",
    "\n",
    "# 이미지 있는 디렉토리로 설정\n",
    "IMG_DIR_PATH = r\"C:\\Users\\inje.jeong\\Desktop\\images\"\n",
    "# 주피터노트북 파일 있는 디렉토리로 설정\n",
    "BASE_PATH = r\"E:\\Users\\inje\\교육\\202012_국비지원 IT교육\\SideProj.-Mask_Detection\"\n",
    "os.chdir(IMG_DIR_PATH)\n",
    "if not os.path.isdir('output'):\n",
    "    os.mkdir('output')\n",
    "OUTPUT_DIR_PATH = os.path.join(IMG_DIR_PATH, 'output')\n",
    "os.chdir(BASE_PATH)\n",
    "\n",
    "for idx, img_path in enumerate(file_list):\n",
    "    IMG_PATH = os.path.join(IMG_DIR_PATH, img_path)\n",
    "    img = cv2.imread(IMG_PATH)\n",
    "    img = imutils.resize(img, width = 500)\n",
    "    gray = cv2.cvtColor(img, cv2.COLOR_BGR2GRAY)\n",
    "    \n",
    "    # Initialize dlib's face detector\n",
    "    detector = dlib.get_frontal_face_detector()\n",
    "    \n",
    "    faces = detector(gray, 1)\n",
    "    \n",
    "    # Initialize dlib's shape predictor\n",
    "    # Get the shape using the predictor\n",
    "    predictor = dlib.shape_predictor(\"shape_predictor_68_face_landmarks.dat\")\n",
    "\n",
    "    for face in faces:\n",
    "        landmarks = predictor(gray, face)\n",
    "\n",
    "        points = []\n",
    "        for i in range(1, 16):\n",
    "            point = [landmarks.part(i).x, landmarks.part(i).y]\n",
    "            points.append(point)\n",
    "\n",
    "        # Coordinates for the additional 3 points for wide, high coverage mask - in sequence\n",
    "        mask_a = [((landmarks.part(42).x), (landmarks.part(15).y)),\n",
    "                  ((landmarks.part(27).x), (landmarks.part(27).y)),\n",
    "                  ((landmarks.part(39).x), (landmarks.part(1).y))]\n",
    "\n",
    "        # Coordinates for the additional point for wide, medium coverage mask - in sequence\n",
    "        mask_c = [((landmarks.part(29).x), (landmarks.part(29).y))]\n",
    "\n",
    "        # Coordinates for the additional 5 points for wide, low coverage mask (lower nose points) - in sequence\n",
    "        mask_e = [((landmarks.part(35).x), (landmarks.part(35).y)),\n",
    "                  ((landmarks.part(34).x), (landmarks.part(34).y)),\n",
    "                  ((landmarks.part(33).x), (landmarks.part(33).y)),\n",
    "                  ((landmarks.part(32).x), (landmarks.part(32).y)),\n",
    "                  ((landmarks.part(31).x), (landmarks.part(31).y))]\n",
    "\n",
    "        fmask_a = points + mask_a\n",
    "        fmask_c = points + mask_c\n",
    "        fmask_e = points + mask_e\n",
    "\n",
    "        # mask_type = {1: fmask_a, 2: fmask_c, 3: fmask_e}\n",
    "        # mask_type[choice2]\n",
    "\n",
    "        # Using Python OpenCV – cv2.polylines() method to draw mask outline for [mask_type]:\n",
    "        # fmask_a = wide, high coverage mask,\n",
    "        # fmask_c = wide, medium coverage mask,\n",
    "        # fmask_e  = wide, low coverage mask\n",
    "\n",
    "        fmask_a = np.array(fmask_a, dtype=np.int32)\n",
    "        fmask_c = np.array(fmask_c, dtype=np.int32)\n",
    "        fmask_e = np.array(fmask_e, dtype=np.int32)\n",
    "\n",
    "        mask_type = {1: fmask_a, 2: fmask_c, 3: fmask_e}\n",
    "        # mask_type[choice2]\n",
    "\n",
    "        # change parameter [mask_type] and color_type for various combination\n",
    "        img2 = cv2.polylines(img, [mask_type[choice2]], True, choice1,\n",
    "                             thickness=2, lineType=cv2.LINE_8)\n",
    "\n",
    "        # Using Python OpenCV – cv2.fillPoly() method to fill mask\n",
    "        # change parameter [mask_type] and color_type for various combination\n",
    "        img3 = cv2.fillPoly(img2, [mask_type[choice2]], choice1, lineType=cv2.LINE_AA)\n",
    "\n",
    "        # cv2.imshow(\"image with mask outline\", img2)\n",
    "        # cv2.imshow(\"image with mask\", img3)\n",
    "\n",
    "    # cv2.imshow(\"image with mask outline\", img_2)\n",
    "    cv2.imshow(f\"image with mask_{idx}\", img3)\n",
    "    cv2.waitKey(0)\n",
    "    cv2.destroyAllWindows()\n",
    "\n",
    "    #Save the output file for testing\n",
    "    outputNameofImage = f\"output_{idx}.jpg\"\n",
    "    print(\"Saving output image to\", outputNameofImage)\n",
    "    OUTPUT_PATH = os.path.join(OUTPUT_DIR_PATH, outputNameofImage)\n",
    "    cv2.imwrite(OUTPUT_PATH, img5)"
   ]
  },
  {
   "cell_type": "markdown",
   "metadata": {},
   "source": [
    "### 타원형 마스킹 파이프라인"
   ]
  },
  {
   "cell_type": "code",
   "execution_count": null,
   "metadata": {},
   "outputs": [],
   "source": [
    "# # Loading the image and resizing, converting it to grayscale\n",
    "# choice1 = color_white # 마스크 색깔\n",
    "# choice2 = 2 # 마스크 모양 0 ~ 2\n",
    "\n",
    "# for idx, img_path in enumerate(file_list):\n",
    "#     IMG_PATH = os.path.join(IMG_DIR_PATH, img_path)\n",
    "#     img = cv2.imread(IMG_PATH)\n",
    "#     img = imutils.resize(img, width = 500)\n",
    "#     gray = cv2.cvtColor(img, cv2.COLOR_BGR2GRAY)\n",
    "    \n",
    "#     # Initialize dlib's face detector\n",
    "#     detector = dlib.get_frontal_face_detector()\n",
    "    \n",
    "#     faces = detector(gray, 1)\n",
    "    \n",
    "#     # Initialize dlib's shape predictor\n",
    "#     # Get the shape using the predictor\n",
    "#     predictor = dlib.shape_predictor(\"shape_predictor_68_face_landmarks.dat\")\n",
    "\n",
    "#     for face in faces:\n",
    "#         landmarks = predictor(gray, face)\n",
    "\n",
    "#         points = []\n",
    "#         for i in range(1, 16):\n",
    "#             point = [landmarks.part(i).x, landmarks.part(i).y]\n",
    "#             points.append(point)\n",
    "\n",
    "#         # Ellipse parameters for high, round coverage mask\n",
    "#         top_ellipse = landmarks.part(27).y + (landmarks.part(28).y - landmarks.part(27).y) / 2\n",
    "#         centre_x = landmarks.part(28).x\n",
    "#         centre_y = landmarks.part(8).y - ((landmarks.part(8).y - (top_ellipse)) / 2)\n",
    "#         # (height of ellipse)\n",
    "#         axis_major = (landmarks.part(8).y - top_ellipse) / 2\n",
    "#         # (width of ellipse)\n",
    "#         axis_minor = ((landmarks.part(13).x - landmarks.part(3).x) * 0.8) / 2\n",
    "\n",
    "#         centre_x = int(round(centre_x))\n",
    "#         centre_y = int(round(centre_y))\n",
    "#         axis_major = int(round(axis_major))\n",
    "#         axis_minor = int(round(axis_minor))\n",
    "\n",
    "#         centre = (centre_x, centre_y)\n",
    "#         axes = (axis_major, axis_minor)\n",
    "\n",
    "#         # Using Python OpenCV – cv2.ellipse() method to draw mask outline for mask\n",
    "#         # change last parameter - line thickness and color_type for various combination\n",
    "#         img4 = cv2.ellipse(img, centre, axes, 0, 0, 360, choice1, thickness=2)\n",
    "\n",
    "#         # Using Python OpenCV – cv2.ellipse() method to draw mask outline for mask\n",
    "#         # change last parameter - line thickness to negative for fill and color_type for various combination\n",
    "#         img5 = cv2.ellipse(img, centre, axes, 0, 0, 360, choice1, thickness=-1)\n",
    "\n",
    "#         # cv2.imshow(\"image with mask outline\", img_2)\n",
    "#         cv2.imshow(f\"image with mask_{idx}\", img3)\n",
    "#         cv2.waitKey(0)\n",
    "#         cv2.destroyAllWindows()\n",
    "\n",
    "#         #Save the output file for testing\n",
    "#         outputNameofImage = f\"output/imagetest_{idx}.jpg\"\n",
    "#         print(\"Saving output image to\", outputNameofImage)\n",
    "#         cv2.imwrite(outputNameofImage, img5)"
   ]
  }
 ],
 "metadata": {
  "kernelspec": {
   "display_name": "Python 3",
   "language": "python",
   "name": "python3"
  },
  "language_info": {
   "codemirror_mode": {
    "name": "ipython",
    "version": 3
   },
   "file_extension": ".py",
   "mimetype": "text/x-python",
   "name": "python",
   "nbconvert_exporter": "python",
   "pygments_lexer": "ipython3",
   "version": "3.8.8"
  }
 },
 "nbformat": 4,
 "nbformat_minor": 4
}
